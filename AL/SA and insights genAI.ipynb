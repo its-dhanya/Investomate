{
 "cells": [
  {
   "cell_type": "code",
   "execution_count": 12,
   "id": "251e25c3-d847-45f5-99ac-cae8153d0fa3",
   "metadata": {},
   "outputs": [],
   "source": [
    "import os\n",
    "import requests\n",
    "import numpy as np\n",
    "import pandas as pd\n",
    "import yfinance as yf\n",
    "import tensorflow as tf\n",
    "from tensorflow.keras.models import Sequential\n",
    "from tensorflow.keras.layers import LSTM, Dense, Dropout\n",
    "from sklearn.preprocessing import MinMaxScaler\n",
    "from bs4 import BeautifulSoup\n",
    "from langchain_openai import ChatOpenAI  # Updated import\n",
    "from langchain.schema import HumanMessage"
   ]
  },
  {
   "cell_type": "code",
   "execution_count": 2,
   "id": "43dab26e-ed7c-450f-9898-79497df0d5a1",
   "metadata": {},
   "outputs": [],
   "source": [
    "from transformers import pipeline"
   ]
  },
  {
   "cell_type": "code",
   "execution_count": 13,
   "id": "2b47868a-343b-447f-bc3c-472d0ad83cf5",
   "metadata": {},
   "outputs": [],
   "source": [
    "\"\"\"def get_trending_stocks():\n",
    "    url = \"https://finance.yahoo.com/trending-tickers\"\n",
    "    response = requests.get(url)\n",
    "    soup = BeautifulSoup(response.text, \"html.parser\")\n",
    "\n",
    "    stocks = []\n",
    "    for row in soup.select(\"table tbody tr\"):\n",
    "        ticker = row.find(\"td\").text\n",
    "        stocks.append(ticker)\n",
    "\n",
    "    return stocks[:10]  # Get top 10 trending stocks\"\"\""
   ]
  },
  {
   "cell_type": "code",
   "execution_count": null,
   "id": "85f820ad-8ec4-4532-a1e3-9d1906a7308a",
   "metadata": {},
   "outputs": [],
   "source": []
  },
  {
   "cell_type": "code",
   "execution_count": 26,
   "id": "a72a3e5a-56a0-45f7-888b-8c9e644eea3f",
   "metadata": {},
   "outputs": [
    {
     "name": "stdout",
     "output_type": "stream",
     "text": [
      "Trending Stocks: []\n"
     ]
    }
   ],
   "source": [
    "import requests\n",
    "from bs4 import BeautifulSoup\n",
    "\n",
    "def get_trending_stocks():\n",
    "    url = \"https://finance.yahoo.com/trending-tickers\"\n",
    "    headers = {\n",
    "        \"User-Agent\": \"Mozilla/5.0 (Windows NT 10.0; Win64; x64) AppleWebKit/537.36 (KHTML, like Gecko) Chrome/110.0.0.0 Safari/537.36\"\n",
    "    }\n",
    "    response = requests.get(url, headers=headers)\n",
    "    soup = BeautifulSoup(response.text, \"html5lib\")  # Change parser\n",
    "\n",
    "\n",
    "    stocks = []\n",
    "    for row in soup.select(\"tr.simpTblRow\"):  # Updated selector for Yahoo Finance\n",
    "        ticker = row.find(\"td\").text\n",
    "        stocks.append(ticker)\n",
    "\n",
    "    return stocks[:10]  # Get top 10 trending stocks\n",
    "\n",
    "# Test\n",
    "trending_stocks = get_trending_stocks()\n",
    "print(\"Trending Stocks:\", trending_stocks)\n"
   ]
  },
  {
   "cell_type": "code",
   "execution_count": 14,
   "id": "64f2ff43-80cf-48a9-8478-151cd9c5b1c4",
   "metadata": {},
   "outputs": [],
   "source": [
    "# Get News Headlines & Perform Sentiment Analysis\n",
    "os.environ[\"OPENAI_API_KEY\"] = \"---\"  \n",
    "llm = ChatOpenAI(model_name=\"gpt-4\", temperature=0.7)\n",
    "\n",
    "def get_stock_news(stock):\n",
    "    url = f\"https://www.moneycontrol.com/news/tags/{stock}.html\" #using moneycontrol to scrape data\n",
    "    response = requests.get(url)\n",
    "    soup = BeautifulSoup(response.text, \"html.parser\")\n",
    "\n",
    "    headlines = [h.text for h in soup.find_all(\"h2\")[:5]]\n",
    "    return headlines if headlines else [\"No recent news\"]\n",
    "\n",
    "def analyze_sentiment(news_headlines):\n",
    "    prompt = f\"Analyze sentiment of these stock market news headlines:\\n{news_headlines}. \" \\\n",
    "             f\"Provide a sentiment score from -1 (very negative) to 1 (very positive).\"\n",
    "    \n",
    "    response = llm([HumanMessage(content=prompt)])\n",
    "    return float(response.content)"
   ]
  },
  {
   "cell_type": "code",
   "execution_count": 15,
   "id": "4d4a90cf-d6a0-473f-9706-e23d762035ff",
   "metadata": {},
   "outputs": [],
   "source": [
    "# Predict Future Prices using LSTM\n",
    "def predict_stock_price(stock):\n",
    "    try:\n",
    "        data = yf.download(stock, period=\"1y\")[\"Adj Close\"]\n",
    "        if data.isnull().values.any():\n",
    "            data = data.dropna()\n",
    "    except:\n",
    "        print(f\" Could not fetch data for {stock}\")\n",
    "        return None\n",
    "\n",
    "    # Scale data\n",
    "    scaler = MinMaxScaler()\n",
    "    data_scaled = scaler.fit_transform(data.values.reshape(-1, 1))\n",
    "\n",
    "    # Prepare training data\n",
    "    X_train, y_train = [], []\n",
    "    for i in range(50, len(data_scaled)):\n",
    "        X_train.append(data_scaled[i-50:i, 0])\n",
    "        y_train.append(data_scaled[i, 0])\n",
    "    \n",
    "    X_train, y_train = np.array(X_train), np.array(y_train)\n",
    "\n",
    "    # Build LSTM model\n",
    "    model = Sequential([\n",
    "        LSTM(50, return_sequences=True, input_shape=(X_train.shape[1], 1)),\n",
    "        Dropout(0.2),\n",
    "        LSTM(50, return_sequences=False),\n",
    "        Dropout(0.2),\n",
    "        Dense(25),\n",
    "        Dense(1)\n",
    "    ])\n",
    "    \n",
    "    model.compile(optimizer='adam', loss='mean_squared_error')\n",
    "    model.fit(X_train, y_train, epochs=10, batch_size=16, verbose=0)\n",
    "\n",
    "    # Predict next 10 days\n",
    "    future_prices = []\n",
    "    last_50_days = data_scaled[-50:].reshape(1, 50, 1)\n",
    "\n",
    "    for _ in range(10):\n",
    "        predicted_price = model.predict(last_50_days)\n",
    "        future_prices.append(scaler.inverse_transform(predicted_price)[0, 0])\n",
    "        last_50_days = np.append(last_50_days[:, 1:, :], predicted_price.reshape(1, 1, 1), axis=1)\n",
    "\n",
    "    return future_prices"
   ]
  },
  {
   "cell_type": "code",
   "execution_count": 16,
   "id": "e22b910d-a5ab-4190-820c-7c4123d46ff4",
   "metadata": {},
   "outputs": [],
   "source": [
    "#  Step 4: Generate Investment Insights\n",
    "def generate_insights(stock, sentiment_score, predicted_prices): #gives investment insights based on the sentiment analysis\n",
    "    avg_future_price = np.mean(predicted_prices) \n",
    "    current_price = yf.download(stock, period=\"1d\")[\"Adj Close\"].values[0]\n",
    "    \n",
    "    if sentiment_score > 0.5 and avg_future_price > current_price * 1.05:\n",
    "        return \" Strong Buy\"\n",
    "    elif sentiment_score > 0 and avg_future_price > current_price:\n",
    "        return \"Buy\"\n",
    "    elif sentiment_score < -0.5 and avg_future_price < current_price * 0.95:\n",
    "        return \"Strong Sell\"\n",
    "    else:\n",
    "        return \" Hold\""
   ]
  },
  {
   "cell_type": "code",
   "execution_count": 17,
   "id": "b300f57e-4ac2-4676-922a-6a1079d70577",
   "metadata": {},
   "outputs": [],
   "source": [
    "trending_stocks = get_trending_stocks()\n",
    "\n",
    "# Sentiment Analysis for Each Stock\n",
    "stock_sentiments = {stock: analyze_sentiment(get_stock_news(stock)) for stock in trending_stocks}\n",
    "sorted_stocks = sorted(stock_sentiments.items(), key=lambda x: x[1], reverse=True)\n",
    "top_5_stocks = sorted_stocks[:5] # gives top 5 stocks sorted by sentiment\n",
    "\n",
    "stock_predictions = {stock: predict_stock_price(stock) for stock, _ in top_5_stocks} #gives prediction for next 10 days for the stock \n",
    "\n",
    "#investment recommendations for the same\n",
    "investment_recommendations = { \n",
    "    stock: generate_insights(stock, sentiment, stock_predictions[stock])\n",
    "    for stock, sentiment in top_5_stocks\n",
    "}\n"
   ]
  },
  {
   "cell_type": "code",
   "execution_count": 20,
   "id": "f2cfedf2-448d-4dd5-b242-efd752819bf7",
   "metadata": {},
   "outputs": [
    {
     "data": {
      "text/plain": [
       "[]"
      ]
     },
     "execution_count": 20,
     "metadata": {},
     "output_type": "execute_result"
    }
   ],
   "source": [
    "trending_stocks"
   ]
  },
  {
   "cell_type": "code",
   "execution_count": null,
   "id": "4d4abc36-4661-4528-9584-71038c1457b6",
   "metadata": {},
   "outputs": [],
   "source": []
  }
 ],
 "metadata": {
  "kernelspec": {
   "display_name": "Python 3 (ipykernel)",
   "language": "python",
   "name": "python3"
  },
  "language_info": {
   "codemirror_mode": {
    "name": "ipython",
    "version": 3
   },
   "file_extension": ".py",
   "mimetype": "text/x-python",
   "name": "python",
   "nbconvert_exporter": "python",
   "pygments_lexer": "ipython3",
   "version": "3.11.7"
  }
 },
 "nbformat": 4,
 "nbformat_minor": 5
}
