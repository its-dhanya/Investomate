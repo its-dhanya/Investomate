{
 "cells": [
  {
   "cell_type": "code",
   "execution_count": 2,
   "id": "9b4c8a87-1de0-48fa-8af3-b96207172fa4",
   "metadata": {},
   "outputs": [
    {
     "name": "stdout",
     "output_type": "stream",
     "text": [
      "\n",
      "--- 💸 Welcome to Personal Finance Optimizer 💸 ---\n",
      "\n"
     ]
    },
    {
     "name": "stdin",
     "output_type": "stream",
     "text": [
      "Enter your monthly income:  5000\n"
     ]
    },
    {
     "name": "stdout",
     "output_type": "stream",
     "text": [
      "\n",
      "Enter your expenses (type 'done' when finished):\n",
      "\n"
     ]
    },
    {
     "name": "stdin",
     "output_type": "stream",
     "text": [
      "Expense Item Name (or 'done' to finish):  Rent\n",
      "Amount for Rent:  700\n"
     ]
    },
    {
     "name": "stdout",
     "output_type": "stream",
     "text": [
      "Select Category:\n",
      "   1. Rent\n",
      "   2. Groceries\n",
      "   3. Health\n",
      "   4. Education\n",
      "   5. Shopping\n",
      "   6. Misc\n",
      "   7. Other\n"
     ]
    },
    {
     "name": "stdin",
     "output_type": "stream",
     "text": [
      "Enter choice (1-7):  1\n"
     ]
    },
    {
     "name": "stdout",
     "output_type": "stream",
     "text": [
      "\n"
     ]
    },
    {
     "name": "stdin",
     "output_type": "stream",
     "text": [
      "Expense Item Name (or 'done' to finish):  Groceries\n",
      "Amount for Groceries:  500\n"
     ]
    },
    {
     "name": "stdout",
     "output_type": "stream",
     "text": [
      "Select Category:\n",
      "   1. Rent\n",
      "   2. Groceries\n",
      "   3. Health\n",
      "   4. Education\n",
      "   5. Shopping\n",
      "   6. Misc\n",
      "   7. Other\n"
     ]
    },
    {
     "name": "stdin",
     "output_type": "stream",
     "text": [
      "Enter choice (1-7):  2\n"
     ]
    },
    {
     "name": "stdout",
     "output_type": "stream",
     "text": [
      "\n"
     ]
    },
    {
     "name": "stdin",
     "output_type": "stream",
     "text": [
      "Expense Item Name (or 'done' to finish):  done\n",
      "Enter your target savings amount:  1732\n",
      "Enter the annual interest rate (in %):  5\n"
     ]
    },
    {
     "ename": "KeyboardInterrupt",
     "evalue": "Interrupted by user",
     "output_type": "error",
     "traceback": [
      "\u001b[0;31m---------------------------------------------------------------------------\u001b[0m",
      "\u001b[0;31mKeyboardInterrupt\u001b[0m                         Traceback (most recent call last)",
      "Cell \u001b[0;32mIn[2], line 115\u001b[0m\n\u001b[1;32m    113\u001b[0m target_amount \u001b[38;5;241m=\u001b[39m \u001b[38;5;28mfloat\u001b[39m(\u001b[38;5;28minput\u001b[39m(\u001b[38;5;124m\"\u001b[39m\u001b[38;5;124mEnter your target savings amount: \u001b[39m\u001b[38;5;124m\"\u001b[39m))\n\u001b[1;32m    114\u001b[0m interest_rate \u001b[38;5;241m=\u001b[39m \u001b[38;5;28mfloat\u001b[39m(\u001b[38;5;28minput\u001b[39m(\u001b[38;5;124m\"\u001b[39m\u001b[38;5;124mEnter the annual interest rate (in \u001b[39m\u001b[38;5;124m%\u001b[39m\u001b[38;5;124m): \u001b[39m\u001b[38;5;124m\"\u001b[39m))\n\u001b[0;32m--> 115\u001b[0m start_date \u001b[38;5;241m=\u001b[39m \u001b[38;5;28;43minput\u001b[39;49m\u001b[43m(\u001b[49m\u001b[38;5;124;43m\"\u001b[39;49m\u001b[38;5;124;43mEnter start date (YYYY-MM-DD): \u001b[39;49m\u001b[38;5;124;43m\"\u001b[39;49m\u001b[43m)\u001b[49m\n\u001b[1;32m    116\u001b[0m end_date \u001b[38;5;241m=\u001b[39m \u001b[38;5;28minput\u001b[39m(\u001b[38;5;124m\"\u001b[39m\u001b[38;5;124mEnter end date (YYYY-MM-DD): \u001b[39m\u001b[38;5;124m\"\u001b[39m)\n\u001b[1;32m    118\u001b[0m result \u001b[38;5;241m=\u001b[39m optimize_spending(income, expenses, target_amount, interest_rate, start_date, end_date)\n",
      "File \u001b[0;32m~/Investomate/myenv/lib/python3.10/site-packages/ipykernel/kernelbase.py:1282\u001b[0m, in \u001b[0;36mKernel.raw_input\u001b[0;34m(self, prompt)\u001b[0m\n\u001b[1;32m   1280\u001b[0m     msg \u001b[38;5;241m=\u001b[39m \u001b[38;5;124m\"\u001b[39m\u001b[38;5;124mraw_input was called, but this frontend does not support input requests.\u001b[39m\u001b[38;5;124m\"\u001b[39m\n\u001b[1;32m   1281\u001b[0m     \u001b[38;5;28;01mraise\u001b[39;00m StdinNotImplementedError(msg)\n\u001b[0;32m-> 1282\u001b[0m \u001b[38;5;28;01mreturn\u001b[39;00m \u001b[38;5;28;43mself\u001b[39;49m\u001b[38;5;241;43m.\u001b[39;49m\u001b[43m_input_request\u001b[49m\u001b[43m(\u001b[49m\n\u001b[1;32m   1283\u001b[0m \u001b[43m    \u001b[49m\u001b[38;5;28;43mstr\u001b[39;49m\u001b[43m(\u001b[49m\u001b[43mprompt\u001b[49m\u001b[43m)\u001b[49m\u001b[43m,\u001b[49m\n\u001b[1;32m   1284\u001b[0m \u001b[43m    \u001b[49m\u001b[38;5;28;43mself\u001b[39;49m\u001b[38;5;241;43m.\u001b[39;49m\u001b[43m_parent_ident\u001b[49m\u001b[43m[\u001b[49m\u001b[38;5;124;43m\"\u001b[39;49m\u001b[38;5;124;43mshell\u001b[39;49m\u001b[38;5;124;43m\"\u001b[39;49m\u001b[43m]\u001b[49m\u001b[43m,\u001b[49m\n\u001b[1;32m   1285\u001b[0m \u001b[43m    \u001b[49m\u001b[38;5;28;43mself\u001b[39;49m\u001b[38;5;241;43m.\u001b[39;49m\u001b[43mget_parent\u001b[49m\u001b[43m(\u001b[49m\u001b[38;5;124;43m\"\u001b[39;49m\u001b[38;5;124;43mshell\u001b[39;49m\u001b[38;5;124;43m\"\u001b[39;49m\u001b[43m)\u001b[49m\u001b[43m,\u001b[49m\n\u001b[1;32m   1286\u001b[0m \u001b[43m    \u001b[49m\u001b[43mpassword\u001b[49m\u001b[38;5;241;43m=\u001b[39;49m\u001b[38;5;28;43;01mFalse\u001b[39;49;00m\u001b[43m,\u001b[49m\n\u001b[1;32m   1287\u001b[0m \u001b[43m\u001b[49m\u001b[43m)\u001b[49m\n",
      "File \u001b[0;32m~/Investomate/myenv/lib/python3.10/site-packages/ipykernel/kernelbase.py:1325\u001b[0m, in \u001b[0;36mKernel._input_request\u001b[0;34m(self, prompt, ident, parent, password)\u001b[0m\n\u001b[1;32m   1322\u001b[0m \u001b[38;5;28;01mexcept\u001b[39;00m \u001b[38;5;167;01mKeyboardInterrupt\u001b[39;00m:\n\u001b[1;32m   1323\u001b[0m     \u001b[38;5;66;03m# re-raise KeyboardInterrupt, to truncate traceback\u001b[39;00m\n\u001b[1;32m   1324\u001b[0m     msg \u001b[38;5;241m=\u001b[39m \u001b[38;5;124m\"\u001b[39m\u001b[38;5;124mInterrupted by user\u001b[39m\u001b[38;5;124m\"\u001b[39m\n\u001b[0;32m-> 1325\u001b[0m     \u001b[38;5;28;01mraise\u001b[39;00m \u001b[38;5;167;01mKeyboardInterrupt\u001b[39;00m(msg) \u001b[38;5;28;01mfrom\u001b[39;00m\u001b[38;5;250m \u001b[39m\u001b[38;5;28;01mNone\u001b[39;00m\n\u001b[1;32m   1326\u001b[0m \u001b[38;5;28;01mexcept\u001b[39;00m \u001b[38;5;167;01mException\u001b[39;00m:\n\u001b[1;32m   1327\u001b[0m     \u001b[38;5;28mself\u001b[39m\u001b[38;5;241m.\u001b[39mlog\u001b[38;5;241m.\u001b[39mwarning(\u001b[38;5;124m\"\u001b[39m\u001b[38;5;124mInvalid Message:\u001b[39m\u001b[38;5;124m\"\u001b[39m, exc_info\u001b[38;5;241m=\u001b[39m\u001b[38;5;28;01mTrue\u001b[39;00m)\n",
      "\u001b[0;31mKeyboardInterrupt\u001b[0m: Interrupted by user"
     ]
    }
   ],
   "source": [
    "import numpy as np\n",
    "from datetime import datetime\n",
    "\n",
    "def classify_expenses(expenses):\n",
    "    categorized_expenses = {\"Needs\": [], \"Wants\": [], \"Savings\": []}\n",
    "    \n",
    "    needs_categories = {\"health\", \"education\", \"rent\", \"groceries\"}\n",
    "    wants_categories = {\"shopping\", \"misc\"}\n",
    "    \n",
    "    for item, amount, category in expenses:\n",
    "        if category in needs_categories:\n",
    "            categorized_expenses[\"Needs\"].append((item, amount))\n",
    "        elif category in wants_categories:\n",
    "            categorized_expenses[\"Wants\"].append((item, amount))\n",
    "        else:\n",
    "            categorized_expenses[\"Savings\"].append((item, amount))\n",
    "    \n",
    "    return categorized_expenses\n",
    "\n",
    "def calculate_amortized_payment(target_amount, interest_rate, months):\n",
    "    if interest_rate == 0:\n",
    "        return target_amount / months\n",
    "    r = interest_rate / 100 / 12  # Convert annual interest rate to monthly\n",
    "    return (target_amount * r) / (1 - (1 + r) ** -months)\n",
    "\n",
    "def optimize_spending(income, expenses, target_amount, interest_rate, start_date, end_date):\n",
    "    categorized_expenses = classify_expenses(expenses)\n",
    "    \n",
    "    total_needs = sum(amount for _, amount in categorized_expenses[\"Needs\"])\n",
    "    total_wants = sum(amount for _, amount in categorized_expenses[\"Wants\"])\n",
    "    total_savings = sum(amount for _, amount in categorized_expenses[\"Savings\"])\n",
    "    \n",
    "    start = datetime.strptime(start_date, \"%Y-%m-%d\")\n",
    "    end = datetime.strptime(end_date, \"%Y-%m-%d\")\n",
    "    months = max(1, (end.year - start.year) * 12 + (end.month - start.month))\n",
    "    \n",
    "    monthly_savings_needed = calculate_amortized_payment(target_amount, interest_rate, months)\n",
    "    discretionary_income = income - total_needs\n",
    "    optimized_wants = max(0, discretionary_income - monthly_savings_needed)\n",
    "    optimized_savings = discretionary_income - optimized_wants\n",
    "    \n",
    "    recommendations = {\n",
    "        \"Optimized Needs\": total_needs,\n",
    "        \"Optimized Wants\": optimized_wants,\n",
    "        \"Optimized Savings\": optimized_savings,\n",
    "        \"Monthly Savings Target\": monthly_savings_needed,\n",
    "        \"Suggested Adjustments\": {},\n",
    "        \"Next Month Limits\": {}\n",
    "    }\n",
    "    \n",
    "    if optimized_savings < monthly_savings_needed:\n",
    "        excess_needed = monthly_savings_needed - optimized_savings\n",
    "        cut_wants = min(total_wants, excess_needed)\n",
    "        recommendations[\"Suggested Adjustments\"][\"Reduce Wants\"] = cut_wants\n",
    "        optimized_wants -= cut_wants\n",
    "        optimized_savings += cut_wants\n",
    "        \n",
    "        # Additional insights for adjustments\n",
    "        if optimized_savings < monthly_savings_needed:\n",
    "            recommendations[\"Suggested Adjustments\"][\"Increase Income\"] = f\"Consider increasing income by at least {monthly_savings_needed - optimized_savings:.2f} to meet savings goal.\"\n",
    "            recommendations[\"Suggested Adjustments\"][\"Reduce Needs\"] = \"Evaluate fixed expenses to identify possible reductions, such as switching to a cheaper plan or optimizing grocery shopping.\"\n",
    "    else:\n",
    "        recommendations[\"Suggested Adjustments\"][\"Success\"] = \"Good going! You are on the right track!\"\n",
    "    \n",
    "    # Recalculate new amortized payments for the next month\n",
    "    new_target_amount = target_amount - optimized_savings\n",
    "    new_months = months - 1 if months > 1 else 1\n",
    "    new_monthly_savings_needed = calculate_amortized_payment(new_target_amount, interest_rate, new_months)\n",
    "    \n",
    "    # Ensure next month limits sum up to income\n",
    "    total_next_month = total_needs + optimized_wants + new_monthly_savings_needed\n",
    "    scale_factor = income / total_next_month if total_next_month > 0 else 1\n",
    "    \n",
    "    recommendations[\"Next Month Limits\"] = {\n",
    "        \"Needs\": total_needs * scale_factor,\n",
    "        \"Wants\": optimized_wants * scale_factor,\n",
    "        \"Savings\": new_monthly_savings_needed * scale_factor\n",
    "    }\n",
    "    \n",
    "    return recommendations\n",
    "\n",
    "# Example Usage\n",
    "income = 5000\n",
    "expenses = [\n",
    "    (\"Rent\", 1500, \"rent\"),\n",
    "    (\"Groceries\", 500, \"groceries\"),\n",
    "    (\"Dining Out\", 300, \"misc\"),\n",
    "    (\"Shopping\", 400, \"shopping\"),\n",
    "    (\"Health Insurance\", 600, \"health\"),\n",
    "    (\"Education Loan\", 700, \"education\")\n",
    "]\n",
    "target_amount = 10000\n",
    "interest_rate = 5  # Annual interest rate in percentage\n",
    "start_date = \"2024-01-01\"\n",
    "end_date = \"2024-12-31\"\n",
    "\n",
    "result = optimize_spending(income, expenses, target_amount, interest_rate, start_date, end_date)\n",
    "print(result)"
   ]
  },
  {
   "cell_type": "code",
   "execution_count": 1,
   "id": "f4d6649f-c5ae-42c3-8831-439429176af7",
   "metadata": {},
   "outputs": [
    {
     "name": "stdout",
     "output_type": "stream",
     "text": [
      "{'Optimized Needs': 3300, 'Optimized Wants': 768.0243233339511, 'Optimized Savings': 931.9756766660489, 'Monthly Savings Target': 931.9756766660489, 'Suggested Adjustments': {'Success': 'Good going! You are on the right track!'}, 'Next Month Limits': {'Needs': 3302.815814505495, 'Wants': 768.6796609188652, 'Savings': 928.5045245756396}}\n"
     ]
    }
   ],
   "source": [
    "import numpy as np\n",
    "from datetime import datetime\n",
    "\n",
    "def classify_expenses(expenses):\n",
    "    categorized_expenses = {\"Needs\": [], \"Wants\": [], \"Savings\": []}\n",
    "    \n",
    "    needs_categories = {\"health\", \"education\", \"rent\", \"groceries\"}\n",
    "    wants_categories = {\"shopping\", \"misc\"}\n",
    "    \n",
    "    for item, amount, category in expenses:\n",
    "        if category in needs_categories:\n",
    "            categorized_expenses[\"Needs\"].append((item, amount))\n",
    "        elif category in wants_categories:\n",
    "            categorized_expenses[\"Wants\"].append((item, amount))\n",
    "        else:\n",
    "            categorized_expenses[\"Savings\"].append((item, amount))\n",
    "    \n",
    "    return categorized_expenses\n",
    "\n",
    "def calculate_amortized_payment(target_amount, interest_rate, months):\n",
    "    if interest_rate == 0:\n",
    "        return target_amount / months\n",
    "    r = interest_rate / 100 / 12  # Convert annual interest rate to monthly\n",
    "    return (target_amount * r) / (1 - (1 + r) ** -months)\n",
    "\n",
    "def optimize_spending(income, expenses, target_amount, interest_rate, start_date, end_date):\n",
    "    categorized_expenses = classify_expenses(expenses)\n",
    "    \n",
    "    total_needs = sum(amount for _, amount in categorized_expenses[\"Needs\"])\n",
    "    total_wants = sum(amount for _, amount in categorized_expenses[\"Wants\"])\n",
    "    total_savings = sum(amount for _, amount in categorized_expenses[\"Savings\"])\n",
    "    \n",
    "    start = datetime.strptime(start_date, \"%Y-%m-%d\")\n",
    "    end = datetime.strptime(end_date, \"%Y-%m-%d\")\n",
    "    months = max(1, (end.year - start.year) * 12 + (end.month - start.month))\n",
    "    \n",
    "    monthly_savings_needed = calculate_amortized_payment(target_amount, interest_rate, months)\n",
    "    discretionary_income = income - total_needs\n",
    "    optimized_wants = max(0, discretionary_income - monthly_savings_needed)\n",
    "    optimized_savings = discretionary_income - optimized_wants\n",
    "    \n",
    "    recommendations = {\n",
    "        \"Optimized Needs\": total_needs,\n",
    "        \"Optimized Wants\": optimized_wants,\n",
    "        \"Optimized Savings\": optimized_savings,\n",
    "        \"Monthly Savings Target\": monthly_savings_needed,\n",
    "        \"Suggested Adjustments\": {},\n",
    "        \"Next Month Limits\": {}\n",
    "    }\n",
    "    \n",
    "    if optimized_savings < monthly_savings_needed:\n",
    "        excess_needed = monthly_savings_needed - optimized_savings\n",
    "        cut_wants = min(total_wants, excess_needed)\n",
    "        recommendations[\"Suggested Adjustments\"][\"Reduce Wants\"] = cut_wants\n",
    "        optimized_wants -= cut_wants\n",
    "        optimized_savings += cut_wants\n",
    "        \n",
    "        # Additional insights for adjustments\n",
    "        if optimized_savings < monthly_savings_needed:\n",
    "            recommendations[\"Suggested Adjustments\"][\"Increase Income\"] = f\"Consider increasing income by at least {monthly_savings_needed - optimized_savings:.2f} to meet savings goal.\"\n",
    "            recommendations[\"Suggested Adjustments\"][\"Reduce Needs\"] = \"Evaluate fixed expenses to identify possible reductions, such as switching to a cheaper plan or optimizing grocery shopping.\"\n",
    "    else:\n",
    "        recommendations[\"Suggested Adjustments\"][\"Success\"] = \"Good going! You are on the right track!\"\n",
    "    \n",
    "    # Recalculate new amortized payments for the next month\n",
    "    new_target_amount = target_amount - optimized_savings\n",
    "    new_months = months - 1 if months > 1 else 1\n",
    "    new_monthly_savings_needed = calculate_amortized_payment(new_target_amount, interest_rate, new_months)\n",
    "    \n",
    "    # Ensure next month limits sum up to income\n",
    "    total_next_month = total_needs + optimized_wants + new_monthly_savings_needed\n",
    "    scale_factor = income / total_next_month if total_next_month > 0 else 1\n",
    "    \n",
    "    recommendations[\"Next Month Limits\"] = {\n",
    "        \"Needs\": total_needs * scale_factor,\n",
    "        \"Wants\": optimized_wants * scale_factor,\n",
    "        \"Savings\": new_monthly_savings_needed * scale_factor\n",
    "    }\n",
    "    \n",
    "    return recommendations\n",
    "\n",
    "# Example Usage\n",
    "income = 5000\n",
    "expenses = [\n",
    "    (\"Rent\", 1500, \"rent\"),\n",
    "    (\"Groceries\", 500, \"groceries\"),\n",
    "    (\"Dining Out\", 300, \"misc\"),\n",
    "    (\"Shopping\", 400, \"shopping\"),\n",
    "    (\"Health Insurance\", 600, \"health\"),\n",
    "    (\"Education Loan\", 700, \"education\")\n",
    "]\n",
    "target_amount = 10000\n",
    "interest_rate = 5  # Annual interest rate in percentage\n",
    "start_date = \"2024-01-01\"\n",
    "end_date = \"2024-12-31\"\n",
    "\n",
    "result = optimize_spending(income, expenses, target_amount, interest_rate, start_date, end_date)\n",
    "print(result)"
   ]
  },
  {
   "cell_type": "code",
   "execution_count": null,
   "id": "d51399a3-d16d-49dd-8115-4125bc5b4b2b",
   "metadata": {},
   "outputs": [],
   "source": []
  }
 ],
 "metadata": {
  "kernelspec": {
   "display_name": "Python 3 (ipykernel)",
   "language": "python",
   "name": "python3"
  },
  "language_info": {
   "codemirror_mode": {
    "name": "ipython",
    "version": 3
   },
   "file_extension": ".py",
   "mimetype": "text/x-python",
   "name": "python",
   "nbconvert_exporter": "python",
   "pygments_lexer": "ipython3",
   "version": "3.10.16"
  }
 },
 "nbformat": 4,
 "nbformat_minor": 5
}
